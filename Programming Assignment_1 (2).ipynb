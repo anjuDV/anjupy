{
 "cells": [
  {
   "cell_type": "markdown",
   "id": "637b47a5",
   "metadata": {},
   "source": [
    "## Programming Assignment_1\n",
    "-------------"
   ]
  },
  {
   "cell_type": "markdown",
   "id": "0c647dbe",
   "metadata": {},
   "source": [
    "### 1. Write a Python program to print \"Hello Python\"?"
   ]
  },
  {
   "cell_type": "code",
   "execution_count": null,
   "id": "3acf0047",
   "metadata": {
    "vscode": {
     "languageId": "plaintext"
    }
   },
   "outputs": [],
   "source": [
    "print(\"Hello Python\")\n"
   ]
  },
  {
   "cell_type": "markdown",
   "id": "fc18a6cd",
   "metadata": {},
   "source": [
    "### 2. Write a Python program to do arithmetical operations addition and division.?\n"
   ]
  },
  {
   "cell_type": "code",
   "execution_count": null,
   "id": "dfbb72ee",
   "metadata": {
    "vscode": {
     "languageId": "plaintext"
    }
   },
   "outputs": [],
   "source": [
    "num1 = input('Enter first number:')\n",
    "num2 = input('Enter second number:')\n",
    "\n",
    "#Add two numbers\n",
    "\n",
    "sum = float(num1) + float(num2)\n",
    "\n",
    "#divide two numbers\n",
    "\n",
    "div = float(num1) / float(num2)\n",
    "\n",
    "#display the sum\n",
    "\n",
    "print('the sum of {0} and {1} is {2}'.format(num1,num2,sum))\n",
    "\n",
    "#display the div \n",
    "\n",
    "print('the division of {0} and {1} is {2}'.format(num1,num2,div))\n",
    "\n"
   ]
  },
  {
   "cell_type": "markdown",
   "id": "af6e2429",
   "metadata": {},
   "source": [
    "### 3. Write a Python program to find the area of a triangle?\n"
   ]
  },
  {
   "cell_type": "code",
   "execution_count": null,
   "id": "51c32a6f",
   "metadata": {
    "vscode": {
     "languageId": "plaintext"
    }
   },
   "outputs": [],
   "source": [
    "#Three sides of the triangle is a, b and c:\n",
    "\n",
    "a = float(input('Enter first side: '))  \n",
    "b = float(input('Enter second side: '))  \n",
    "c = float(input('Enter third side: '))  \n",
    "  \n",
    "#calculate the semi-perimeter \n",
    "\n",
    "s = (a + b + c) / 2  \n",
    "  \n",
    "#calculate the area\n",
    "\n",
    "area = (s*(s-a)*(s-b)*(s-c)) ** 0.5  \n",
    "\n",
    "print('The area of the triangle is %0.2f' %area)   "
   ]
  },
  {
   "cell_type": "markdown",
   "id": "b8140061",
   "metadata": {},
   "source": [
    "### 4. Write a Python program to swap two variables?\n"
   ]
  },
  {
   "cell_type": "code",
   "execution_count": null,
   "id": "a95d330e",
   "metadata": {
    "vscode": {
     "languageId": "plaintext"
    }
   },
   "outputs": [],
   "source": [
    "P = int( input(\"Please enter value for P:\"))  \n",
    "Q = int( input(\"Please enter value for Q:\"))  \n",
    "   \n",
    "#To swap the value of two variables  \n",
    "#we will user third variable which is a temporary variable \n",
    "\n",
    "temp_1 = P  \n",
    "P = Q  \n",
    "Q = temp_1  \n",
    "   \n",
    "print (\"The Value of P after swapping: \", P)  \n",
    "print (\"The Value of Q after swapping: \", Q)  "
   ]
  },
  {
   "cell_type": "markdown",
   "id": "3f8054c1",
   "metadata": {},
   "source": [
    "### 5. Write a Python program to generate a random number?\n"
   ]
  },
  {
   "cell_type": "code",
   "execution_count": null,
   "id": "f20eeacc",
   "metadata": {
    "vscode": {
     "languageId": "plaintext"
    }
   },
   "outputs": [],
   "source": [
    "import random  \n",
    "n = random.randint(100, 200)  \n",
    "print(n)  "
   ]
  }
 ],
 "metadata": {
  "kernelspec": {
   "display_name": "Python 3 (ipykernel)",
   "language": "python",
   "name": "python3"
  },
  "language_info": {
   "codemirror_mode": {
    "name": "ipython",
    "version": 3
   },
   "file_extension": ".py",
   "mimetype": "text/x-python",
   "name": "python",
   "nbconvert_exporter": "python",
   "pygments_lexer": "ipython3",
   "version": "3.9.12"
  }
 },
 "nbformat": 4,
 "nbformat_minor": 5
}
